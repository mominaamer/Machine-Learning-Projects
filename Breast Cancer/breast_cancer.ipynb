{
  "nbformat": 4,
  "nbformat_minor": 0,
  "metadata": {
    "kernelspec": {
      "language": "python",
      "display_name": "Python 3",
      "name": "python3"
    },
    "language_info": {
      "pygments_lexer": "ipython3",
      "nbconvert_exporter": "python",
      "version": "3.6.4",
      "file_extension": ".py",
      "codemirror_mode": {
        "name": "ipython",
        "version": 3
      },
      "name": "python",
      "mimetype": "text/x-python"
    },
    "colab": {
      "name": "breast-cancer.ipynb",
      "provenance": [],
      "include_colab_link": true
    }
  },
  "cells": [
    {
      "cell_type": "markdown",
      "metadata": {
        "id": "view-in-github",
        "colab_type": "text"
      },
      "source": [
        "<a href=\"https://colab.research.google.com/github/mominaamer/Machine-Learning-Projects/blob/main/breast_cancer.ipynb\" target=\"_parent\"><img src=\"https://colab.research.google.com/assets/colab-badge.svg\" alt=\"Open In Colab\"/></a>"
      ]
    },
    {
      "cell_type": "code",
      "metadata": {
        "_uuid": "8f2839f25d086af736a60e9eeb907d3b93b6e0e5",
        "_cell_guid": "b1076dfc-b9ad-4769-8c92-a6c4dae69d19",
        "trusted": true,
        "id": "amjKzAq-eRWU"
      },
      "source": [
        "\n",
        "import os\n",
        "for dirname, _, filenames in os.walk('/kaggle/input'):\n",
        "    for filename in filenames:\n",
        "        print(os.path.join(dirname, filename))\n",
        "\n"
      ],
      "execution_count": null,
      "outputs": []
    },
    {
      "cell_type": "code",
      "metadata": {
        "_uuid": "d629ff2d2480ee46fbb7e2d37f6b5fab8052498a",
        "_cell_guid": "79c7e3d0-c299-4dcb-8224-4455121ee9b0",
        "trusted": true,
        "id": "_ZU2pUIieRW3"
      },
      "source": [
        "import pandas as pd\n",
        "import numpy as np\n",
        "from sklearn.preprocessing import LabelEncoder, StandardScaler\n",
        "from sklearn.linear_model import LogisticRegression\n",
        "from sklearn.pipeline import make_pipeline\n",
        "from sklearn.model_selection import train_test_split, GridSearchCV, RandomizedSearchCV\n",
        "from sklearn.metrics import accuracy_score, confusion_matrix, precision_score, recall_score, roc_auc_score, roc_curve\n",
        "import seaborn as sns\n",
        "import matplotlib.pyplot as plt\n",
        "import plotly.graph_objs as go\n",
        "import plotly.offline as py\n",
        "from sklearn.neighbors import KNeighborsClassifier, NeighborhoodComponentsAnalysis, LocalOutlierFactor, NeighborhoodComponentsAnalysis\n",
        "from sklearn.decomposition import PCA\n",
        "from lightgbm import LGBMClassifier"
      ],
      "execution_count": null,
      "outputs": []
    },
    {
      "cell_type": "code",
      "metadata": {
        "trusted": true,
        "id": "85PUCof3eRW6"
      },
      "source": [
        "cancer = pd.read_csv(\"../input/breast-cancer-wisconsin-data/data.csv\")\n",
        "df = cancer.copy()\n",
        "df.head()"
      ],
      "execution_count": null,
      "outputs": []
    },
    {
      "cell_type": "code",
      "metadata": {
        "trusted": true,
        "id": "pNYEYa9GeRW7"
      },
      "source": [
        "df.drop(columns=[\"id\", \"Unnamed: 32\"], axis = 1, inplace=True)"
      ],
      "execution_count": null,
      "outputs": []
    },
    {
      "cell_type": "markdown",
      "metadata": {
        "id": "9hJ74nPeeRW8"
      },
      "source": [
        "# Fill Missing Value"
      ]
    },
    {
      "cell_type": "code",
      "metadata": {
        "trusted": true,
        "id": "JxqPXNhTeRW-"
      },
      "source": [
        "df.isnull().sum()"
      ],
      "execution_count": null,
      "outputs": []
    },
    {
      "cell_type": "markdown",
      "metadata": {
        "id": "mRzgAC1CeRW_"
      },
      "source": [
        "# EXAMINE TARGET VARIABLE AND LABEL ENCODER"
      ]
    },
    {
      "cell_type": "code",
      "metadata": {
        "trusted": true,
        "id": "7LHB4KZdeRXA"
      },
      "source": [
        "sns.countplot(df[\"diagnosis\"], )"
      ],
      "execution_count": null,
      "outputs": []
    },
    {
      "cell_type": "code",
      "metadata": {
        "trusted": true,
        "id": "kd8aFP25eRXB"
      },
      "source": [
        "le = LabelEncoder()\n",
        "df[\"Diagnosis\"] = le.fit_transform(df[\"diagnosis\"])\n",
        "df.drop(columns=[\"diagnosis\"], axis=1, inplace=True)\n",
        "df.head()"
      ],
      "execution_count": null,
      "outputs": []
    },
    {
      "cell_type": "markdown",
      "metadata": {
        "id": "O1vasuUteRXE"
      },
      "source": [
        "# EDA"
      ]
    },
    {
      "cell_type": "code",
      "metadata": {
        "trusted": true,
        "id": "PHKHvyfyeRXG"
      },
      "source": [
        "corr_matrix = df.corr()\n",
        "plt.figure(figsize=(15,15))\n",
        "plt.title(\"Correlation Between Features\")\n",
        "sns.heatmap(corr_matrix, annot=True, fmt=\".2f\")"
      ],
      "execution_count": null,
      "outputs": []
    },
    {
      "cell_type": "code",
      "metadata": {
        "trusted": true,
        "id": "bWDoZ4pneRXH"
      },
      "source": [
        "threshold = 0.7\n",
        "filter = np.abs(corr_matrix[\"Diagnosis\"]) > threshold\n",
        "corr_features = corr_matrix.columns[filter].tolist()\n",
        "plt.title(\"CORRELATION BETWEEN FEATURES (CORR > 0.7)\")\n",
        "sns.heatmap(df[corr_features].corr(), annot=True, fmt=\".2f\")"
      ],
      "execution_count": null,
      "outputs": []
    },
    {
      "cell_type": "code",
      "metadata": {
        "trusted": true,
        "id": "YvcHvUGIeRXI"
      },
      "source": [
        "sns.pairplot(df[corr_features], hue=\"Diagnosis\")"
      ],
      "execution_count": null,
      "outputs": []
    },
    {
      "cell_type": "code",
      "metadata": {
        "trusted": true,
        "id": "k00tZoeveRXJ"
      },
      "source": [
        "df.hist(corr_features, figsize=(10,10));"
      ],
      "execution_count": null,
      "outputs": []
    },
    {
      "cell_type": "code",
      "metadata": {
        "trusted": true,
        "id": "ciuLO_TYeRXK"
      },
      "source": [
        "def OutliersBox(df, nameOfFeature):\n",
        "    trace0 = go.Box(y = df[nameOfFeature],\n",
        "                    name = \"All Points\",\n",
        "                    jitter = 0.3,\n",
        "                    pointpos = -1.8,\n",
        "                    boxpoints = \"all\")\n",
        "    trace1 = go.Box(y = df[nameOfFeature],\n",
        "                    name = \"Only Whiskers\",\n",
        "                    boxpoints = False)\n",
        "    trace2 = go.Box(y = df[nameOfFeature],\n",
        "                    name = \"Suspected Outliers\",\n",
        "                    boxpoints = \"suspectedoutliers\",\n",
        "                    marker = dict(color = 'rgb(8,81,156)',\n",
        "                                outliercolor = 'rgba(219, 64, 82, 0.6)', line = dict(outliercolor = 'rgba(219, 64, 82, 0.6)',\n",
        "                                                                                     outlierwidth = 2)),\n",
        "                    line = dict(color = 'rgb(8,81,156)') )\n",
        "    trace3 = go.Box(y = df[nameOfFeature],\n",
        "                    name = \"Whiskers and Outliers\",\n",
        "                    boxpoints = \"outliers\")\n",
        "    \n",
        "    data_ = [trace0, trace1, trace2, trace3]\n",
        "    layout_ = go.Layout(\n",
        "        title = \"{} Outliers\".format(nameOfFeature)\n",
        "    )\n",
        "    fig = go.Figure(data=data_, layout = layout_)\n",
        "    py.iplot(fig, filename = \"Outliers\")"
      ],
      "execution_count": null,
      "outputs": []
    },
    {
      "cell_type": "code",
      "metadata": {
        "trusted": true,
        "id": "tn8S5M0DeRXM"
      },
      "source": [
        "OutliersBox(df, corr_features[0])"
      ],
      "execution_count": null,
      "outputs": []
    },
    {
      "cell_type": "code",
      "metadata": {
        "trusted": true,
        "id": "UVyFINileRXN"
      },
      "source": [
        "OutliersBox(df, corr_features[1])"
      ],
      "execution_count": null,
      "outputs": []
    },
    {
      "cell_type": "code",
      "metadata": {
        "trusted": true,
        "id": "-pDhZ5NNeRXO"
      },
      "source": [
        "OutliersBox(df, corr_features[2])"
      ],
      "execution_count": null,
      "outputs": []
    },
    {
      "cell_type": "code",
      "metadata": {
        "trusted": true,
        "id": "SIkfdLmbeRXP"
      },
      "source": [
        "OutliersBox(df, corr_features[3])"
      ],
      "execution_count": null,
      "outputs": []
    },
    {
      "cell_type": "code",
      "metadata": {
        "trusted": true,
        "id": "OPRSZb1MeRXP"
      },
      "source": [
        "OutliersBox(df, corr_features[4])"
      ],
      "execution_count": null,
      "outputs": []
    },
    {
      "cell_type": "code",
      "metadata": {
        "trusted": true,
        "id": "8O2vPjjdeRXQ"
      },
      "source": [
        "OutliersBox(df, corr_features[5])"
      ],
      "execution_count": null,
      "outputs": []
    },
    {
      "cell_type": "code",
      "metadata": {
        "trusted": true,
        "id": "Tmw1zgQ1eRXR"
      },
      "source": [
        "OutliersBox(df, corr_features[6])"
      ],
      "execution_count": null,
      "outputs": []
    },
    {
      "cell_type": "code",
      "metadata": {
        "trusted": true,
        "id": "wlVqGqtmeRXS"
      },
      "source": [
        "OutliersBox(df, corr_features[7])"
      ],
      "execution_count": null,
      "outputs": []
    },
    {
      "cell_type": "code",
      "metadata": {
        "trusted": true,
        "id": "rMvVx6NmeRXU"
      },
      "source": [
        "y = df.Diagnosis\n",
        "X = df.drop([\"Diagnosis\"], axis=1)\n",
        "columns = X.columns.tolist()\n",
        "clf = LocalOutlierFactor()\n",
        "y_pred_outlier = clf.fit_predict(X)\n",
        "X_score = clf.negative_outlier_factor_\n",
        "outlier_score = pd.DataFrame()\n",
        "outlier_score[\"score\"] = X_score\n",
        "threshold = -1.75\n",
        "filter_outlier = outlier_score[\"score\"] < threshold\n",
        "outlier_index = outlier_score[filter_outlier].index.tolist()"
      ],
      "execution_count": null,
      "outputs": []
    },
    {
      "cell_type": "code",
      "metadata": {
        "trusted": true,
        "id": "VnI8Tj2NeRXV"
      },
      "source": [
        "plt.figure(figsize=(14,8))\n",
        "plt.scatter(X.iloc[outlier_index,0], X.iloc[outlier_index,1], color=\"blue\", s=50,\n",
        "            label=\"Outliers\")\n",
        "plt.scatter(X.iloc[:,0], X.iloc[:,1], color=\"k\", s=3, label=\"Data Points\")\n",
        "\n",
        "radius = (X_score.max() - X_score) / (X_score.max() - X_score.min()) \n",
        "outlier_score[\"radius\"] = radius\n",
        "plt.scatter(X.iloc[:,0], X.iloc[:,1], s=1000*radius, edgecolors=\"r\", \n",
        "            facecolors=\"none\", label=\"Outlier Scores\")\n",
        "plt.legend()\n",
        "plt.show()"
      ],
      "execution_count": null,
      "outputs": []
    },
    {
      "cell_type": "code",
      "metadata": {
        "trusted": true,
        "id": "R76tQd7JeRXX"
      },
      "source": [
        "X = X.drop(outlier_index)\n",
        "y = y.drop(outlier_index).values"
      ],
      "execution_count": null,
      "outputs": []
    },
    {
      "cell_type": "code",
      "metadata": {
        "trusted": true,
        "id": "lU9lxEZ-eRXY"
      },
      "source": [
        "X_train, X_test, y_train, y_test = train_test_split(X, y, test_size = 0.20, random_state = 3, stratify=y)\n",
        "scaler = StandardScaler()\n",
        "X_train_scaled = scaler.fit_transform(X_train)\n",
        "X_test_scaled = scaler.transform(X_test)\n",
        "X_train_df = pd.DataFrame(X_train_scaled, columns=columns)\n",
        "X_train_df[\"target\"] = y_train\n",
        "data_melted_2 = pd.melt(X_train_df, id_vars=\"target\",\n",
        "                        var_name=\"features\",\n",
        "                        value_name=\"value\")\n",
        "plt.figure(figsize=(18,10))\n",
        "plt.title(\"BOX PLOT AFTER SCALING\")\n",
        "sns.boxplot(x=\"features\", y=\"value\", hue=\"target\", data=data_melted_2)\n",
        "plt.xticks(rotation=90);"
      ],
      "execution_count": null,
      "outputs": []
    },
    {
      "cell_type": "code",
      "metadata": {
        "trusted": true,
        "id": "ovY3maWjeRXa"
      },
      "source": [
        "def plot_roc_curve(fpr, tpr, label=None):\n",
        "    plt.plot(fpr, tpr, linewidth=2, label=label)\n",
        "    plt.plot([0,1],[0,1],\"k--\")\n",
        "    plt.axis([0,1,0,1])\n",
        "    plt.xlabel(\"False Positive Rate\")\n",
        "    plt.ylabel(\"True Positive Rate\")"
      ],
      "execution_count": null,
      "outputs": []
    },
    {
      "cell_type": "code",
      "metadata": {
        "trusted": true,
        "id": "_qqq7rQceRXa"
      },
      "source": [
        "def KNN_best_params(X_train, X_test, y_train, y_test):\n",
        "    k_range = np.arange(1,31)\n",
        "    weight = [\"uniform\", \"distance\"]\n",
        "    params = dict(n_neighbors = k_range, weights = weight)\n",
        "    \n",
        "    knn = KNeighborsClassifier()\n",
        "    grid = GridSearchCV(knn, params, cv=10, scoring=\"accuracy\", n_jobs=-1, verbose=2)\n",
        "    grid.fit(X_train, y_train)\n",
        "    \n",
        "    print(\"Best training score: {} wtih params: {}\".format(grid.best_score_,grid.best_params_))\n",
        "    \n",
        "    knn = KNeighborsClassifier(**grid.best_params_)\n",
        "    knn.fit(X_train, y_train)\n",
        "    y_pred_test = knn.predict(X_test)\n",
        "    y_pred_train = knn.predict(X_train)\n",
        "    cm_test = confusion_matrix(y_test, y_pred_test)\n",
        "    cm_train = confusion_matrix(y_train, y_pred_train)\n",
        "    \n",
        "    acc_test = accuracy_score(y_test, y_pred_test)\n",
        "    acc_train = accuracy_score(y_train, y_pred_train)\n",
        "    \n",
        "    y_pred_proba = knn.predict_proba(X_test)[:,1]\n",
        "    fpr, tpr, thresholds = roc_curve(y_test, y_pred_proba)\n",
        "    \n",
        "    print(\"Test Score: {}, Train Score: {}\".format(acc_test,acc_train))\n",
        "    print(\"CM TEST\")\n",
        "    print(cm_test)\n",
        "    print(\"CM TRAIN\")\n",
        "    print(cm_train)\n",
        "    print(\"Precision Score\", precision_score(y_test, y_pred_test))\n",
        "    print(\"recall Score\",recall_score(y_test, y_pred_test))\n",
        "    print(\"ROC Score\", roc_auc_score(y_test, y_pred_proba))\n",
        "    plot_roc_curve(fpr, tpr, thresholds)\n",
        "    return grid\n"
      ],
      "execution_count": null,
      "outputs": []
    },
    {
      "cell_type": "code",
      "metadata": {
        "trusted": true,
        "id": "TzrD15G8eRXc"
      },
      "source": [
        "grid = KNN_best_params(X_train_scaled, X_test_scaled, y_train, y_test)"
      ],
      "execution_count": null,
      "outputs": []
    },
    {
      "cell_type": "code",
      "metadata": {
        "trusted": true,
        "id": "ezIEFac_eRXd"
      },
      "source": [
        "def lgbm_best_params(X_train, X_test, y_train, y_test):\n",
        "    lgbm_params = {\"n_estimators\" : [100,200,500,1000,2000],\n",
        "               \"subsample\" : [0.6,0.8,1.0],\n",
        "               \"max_depth\" : [5,10,15,20,25,30,35],\n",
        "               \"learning_rate\" : [0.1, 0.01, 0.02, 0.5],\n",
        "               \"min_child_samples\" : np.arange(2,50)}\n",
        "    lgbm = LGBMClassifier()\n",
        "    random = RandomizedSearchCV(lgbm, lgbm_params, cv=10, random_state=1, n_jobs=-1, verbose=2)\n",
        "    #grid = GridSearchCV(lgbm, lgbm_params, cv=10, verbose=2, n_jobs=-1)\n",
        "    random.fit(X_train, y_train)\n",
        "    \n",
        "    print(\"Best training score: {} wtih params: {}\".format(random.best_score_,random.best_params_))\n",
        "    \n",
        "    lgbm = LGBMClassifier(**random.best_params_)\n",
        "    lgbm.fit(X_train, y_train)\n",
        "    y_pred_test = lgbm.predict(X_test)\n",
        "    y_pred_train = lgbm.predict(X_train)\n",
        "    \n",
        "    cm_test = confusion_matrix(y_test, y_pred_test)\n",
        "    cm_train = confusion_matrix(y_train, y_pred_train)\n",
        "    \n",
        "    acc_test = accuracy_score(y_test, y_pred_test)\n",
        "    acc_train = accuracy_score(y_train, y_pred_train)\n",
        "    \n",
        "    y_pred_proba = lgbm.predict_proba(X_test)[:,1]\n",
        "    fpr, tpr, thresholds = roc_curve(y_test, y_pred_proba)\n",
        "    \n",
        "    print(\"Test Score: {}, Train Score: {}\".format(acc_test,acc_train))\n",
        "    print(\"CM TEST\")\n",
        "    print(cm_test)\n",
        "    print(\"CM TRAIN\")\n",
        "    print(cm_train)\n",
        "    print(\"Precision Score\", precision_score(y_test, y_pred_test))\n",
        "    print(\"recall Score\",recall_score(y_test, y_pred_test))\n",
        "    print(\"ROC Score\", roc_auc_score(y_test, y_pred_proba))\n",
        "    plot_roc_curve(fpr, tpr, thresholds)\n",
        "    \n",
        "    return grid"
      ],
      "execution_count": null,
      "outputs": []
    },
    {
      "cell_type": "code",
      "metadata": {
        "trusted": true,
        "id": "HL1iiaNWeRXe"
      },
      "source": [
        "random_lgbm = lgbm_best_params(X_train_scaled, X_test_scaled, y_train, y_test)"
      ],
      "execution_count": null,
      "outputs": []
    },
    {
      "cell_type": "code",
      "metadata": {
        "trusted": true,
        "id": "jDjkRhCweRXj"
      },
      "source": [
        "scaler = StandardScaler()\n",
        "X_scaled = scaler.fit_transform(X)"
      ],
      "execution_count": null,
      "outputs": []
    },
    {
      "cell_type": "code",
      "metadata": {
        "trusted": true,
        "id": "zrxwJr1LeRXl"
      },
      "source": [
        "pca = PCA(n_components=2)\n",
        "pca.fit(X_scaled)\n",
        "X_reduced_pca = pca.transform(X_scaled)"
      ],
      "execution_count": null,
      "outputs": []
    },
    {
      "cell_type": "code",
      "metadata": {
        "trusted": true,
        "id": "X0TM779HeRXo"
      },
      "source": [
        "pca_data = pd.DataFrame(X_reduced_pca, columns=[\"p1\",\"p2\"])\n",
        "pca_data[\"target\"] = y\n",
        "plt.figure(figsize=(14,8))\n",
        "sns.scatterplot(x=\"p1\", y=\"p2\", hue=\"target\", data=pca_data)"
      ],
      "execution_count": null,
      "outputs": []
    },
    {
      "cell_type": "code",
      "metadata": {
        "trusted": true,
        "id": "yVNWx0AteRXs"
      },
      "source": [
        "X_train_pca, X_test_pca, y_train_pca, y_test_pca = train_test_split(X_reduced_pca, y, test_size = 0.20, random_state = 3, stratify=y)"
      ],
      "execution_count": null,
      "outputs": []
    },
    {
      "cell_type": "code",
      "metadata": {
        "trusted": true,
        "id": "gJMDRWq5eRXu"
      },
      "source": [
        "grid_pca = KNN_best_params(X_train_pca, X_test_pca, y_train_pca, y_test_pca)"
      ],
      "execution_count": null,
      "outputs": []
    },
    {
      "cell_type": "code",
      "metadata": {
        "trusted": true,
        "id": "2NwcTk_OeRXw"
      },
      "source": [
        "nca = NeighborhoodComponentsAnalysis(n_components=2, random_state=42)\n",
        "nca.fit(X_scaled, y)\n",
        "X_reduced_nca = nca.transform(X_scaled)"
      ],
      "execution_count": null,
      "outputs": []
    },
    {
      "cell_type": "code",
      "metadata": {
        "trusted": true,
        "id": "vHi82vH9eRXx"
      },
      "source": [
        "nca_data = pd.DataFrame(X_reduced_nca, columns=[\"p1\",\"p2\"])\n",
        "nca_data[\"target\"] = y\n",
        "plt.figure(figsize=(14,8))\n",
        "sns.scatterplot(x=\"p1\", y=\"p2\", hue=\"target\", data=nca_data)"
      ],
      "execution_count": null,
      "outputs": []
    },
    {
      "cell_type": "code",
      "metadata": {
        "trusted": true,
        "id": "U3I30b-WeRXy"
      },
      "source": [
        "X_train_nca, X_test_nca, y_train_nca, y_test_nca = train_test_split(X_reduced_nca, y, test_size = 0.20, random_state = 3, stratify=y)"
      ],
      "execution_count": null,
      "outputs": []
    },
    {
      "cell_type": "code",
      "metadata": {
        "trusted": true,
        "id": "B15LGTWGeRXz"
      },
      "source": [
        "grid_nca = KNN_best_params(X_train_nca, X_test_nca, y_train_nca, y_test_nca)"
      ],
      "execution_count": null,
      "outputs": []
    },
    {
      "cell_type": "markdown",
      "metadata": {
        "id": "Schq9alpeRX0"
      },
      "source": [
        "# As a result we have 0.99 accuracy score"
      ]
    },
    {
      "cell_type": "code",
      "metadata": {
        "trusted": true,
        "id": "yqfgEu33eRX1"
      },
      "source": [
        ""
      ],
      "execution_count": null,
      "outputs": []
    }
  ]
}
